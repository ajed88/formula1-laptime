{
 "cells": [
  {
   "cell_type": "code",
   "execution_count": 1,
   "id": "c8714a51",
   "metadata": {},
   "outputs": [],
   "source": [
    "import numpy as np\n",
    "import pandas as pd\n",
    "from ydata_profiling import ProfileReport\n",
    "from matplotlib import pyplot as plt\n",
    "import seaborn as sns\n",
    "%matplotlib inline\n",
    "plt.rcParams['figure.figsize'] = (10, 6)"
   ]
  },
  {
   "cell_type": "code",
   "execution_count": 12,
   "id": "03635c59",
   "metadata": {},
   "outputs": [],
   "source": [
    "validatedf = pd.read_csv(\"test.csv\")\n",
    "df = pd.read_csv(\"train.csv\")"
   ]
  },
  {
   "cell_type": "code",
   "execution_count": 13,
   "id": "f11b4438",
   "metadata": {},
   "outputs": [],
   "source": [
    "df= df.drop(['latitude','longitude', 'id', 'carNumber', 'date', 'time', 'race'], axis=1)\n",
    "validatedf = validatedf.drop(['latitude','longitude', 'id', 'carNumber', 'date', 'time', 'race'], axis=1)"
   ]
  },
  {
   "cell_type": "code",
   "execution_count": 14,
   "id": "d7d7c927",
   "metadata": {},
   "outputs": [
    {
     "data": {
      "text/html": [
       "<div>\n",
       "<style scoped>\n",
       "    .dataframe tbody tr th:only-of-type {\n",
       "        vertical-align: middle;\n",
       "    }\n",
       "\n",
       "    .dataframe tbody tr th {\n",
       "        vertical-align: top;\n",
       "    }\n",
       "\n",
       "    .dataframe thead th {\n",
       "        text-align: right;\n",
       "    }\n",
       "</style>\n",
       "<table border=\"1\" class=\"dataframe\">\n",
       "  <thead>\n",
       "    <tr style=\"text-align: right;\">\n",
       "      <th></th>\n",
       "      <th>circuit</th>\n",
       "      <th>altitude</th>\n",
       "      <th>driver</th>\n",
       "      <th>constructor</th>\n",
       "      <th>avgDriverFinish</th>\n",
       "      <th>avgConstructorFinish</th>\n",
       "      <th>lapNumber</th>\n",
       "      <th>lapPosition</th>\n",
       "      <th>pitStop</th>\n",
       "      <th>pitCount</th>\n",
       "      <th>pitTime_ms</th>\n",
       "      <th>lapTime_ms</th>\n",
       "    </tr>\n",
       "  </thead>\n",
       "  <tbody>\n",
       "    <tr>\n",
       "      <th>0</th>\n",
       "      <td>Silverstone Circuit</td>\n",
       "      <td>153</td>\n",
       "      <td>Ricciardo, Daniel</td>\n",
       "      <td>Red Bull</td>\n",
       "      <td>9.799145</td>\n",
       "      <td>3.033426</td>\n",
       "      <td>18</td>\n",
       "      <td>10</td>\n",
       "      <td>0</td>\n",
       "      <td>0</td>\n",
       "      <td>0.0</td>\n",
       "      <td>94846</td>\n",
       "    </tr>\n",
       "  </tbody>\n",
       "</table>\n",
       "</div>"
      ],
      "text/plain": [
       "               circuit  altitude             driver constructor  \\\n",
       "0  Silverstone Circuit       153  Ricciardo, Daniel    Red Bull   \n",
       "\n",
       "   avgDriverFinish  avgConstructorFinish  lapNumber  lapPosition  pitStop  \\\n",
       "0         9.799145              3.033426         18           10        0   \n",
       "\n",
       "   pitCount  pitTime_ms  lapTime_ms  \n",
       "0         0         0.0       94846  "
      ]
     },
     "execution_count": 14,
     "metadata": {},
     "output_type": "execute_result"
    }
   ],
   "source": [
    "df.head(1)"
   ]
  },
  {
   "cell_type": "code",
   "execution_count": 15,
   "id": "52e9c5c1",
   "metadata": {},
   "outputs": [
    {
     "name": "stderr",
     "output_type": "stream",
     "text": [
      "C:\\Users\\ajed8\\AppData\\Local\\Temp\\ipykernel_15216\\2427635866.py:31: DeprecationWarning: KerasRegressor is deprecated, use Sci-Keras (https://github.com/adriangb/scikeras) instead. See https://www.adriangb.com/scikeras/stable/migration.html for help migrating.\n",
      "  ('model', tf.keras.wrappers.scikit_learn.KerasRegressor(build_fn=create_model, epochs=50, batch_size=32, verbose=0))\n"
     ]
    },
    {
     "name": "stdout",
     "output_type": "stream",
     "text": [
      "Best Hyperparameter Combination:\n",
      "{'model__batch_size': 32, 'model__epochs': 100, 'model__units': 128}\n"
     ]
    },
    {
     "ename": "TypeError",
     "evalue": "cannot unpack non-iterable float object",
     "output_type": "error",
     "traceback": [
      "\u001b[1;31m---------------------------------------------------------------------------\u001b[0m",
      "\u001b[1;31mTypeError\u001b[0m                                 Traceback (most recent call last)",
      "Input \u001b[1;32mIn [15]\u001b[0m, in \u001b[0;36m<cell line: 57>\u001b[1;34m()\u001b[0m\n\u001b[0;32m     55\u001b[0m \u001b[38;5;66;03m# Evaluate the best model on the test set\u001b[39;00m\n\u001b[0;32m     56\u001b[0m best_model \u001b[38;5;241m=\u001b[39m grid_search\u001b[38;5;241m.\u001b[39mbest_estimator_\n\u001b[1;32m---> 57\u001b[0m mse, mae \u001b[38;5;241m=\u001b[39m best_model\u001b[38;5;241m.\u001b[39mscore(X_test, y_test)\n\u001b[0;32m     58\u001b[0m \u001b[38;5;28mprint\u001b[39m(\u001b[38;5;124mf\u001b[39m\u001b[38;5;124m'\u001b[39m\u001b[38;5;124mMean Squared Error on Test Set: \u001b[39m\u001b[38;5;132;01m{\u001b[39;00mmse\u001b[38;5;132;01m}\u001b[39;00m\u001b[38;5;124m'\u001b[39m)\n\u001b[0;32m     59\u001b[0m \u001b[38;5;28mprint\u001b[39m(\u001b[38;5;124mf\u001b[39m\u001b[38;5;124m'\u001b[39m\u001b[38;5;124mMean Absolute Error on Test Set: \u001b[39m\u001b[38;5;132;01m{\u001b[39;00mmae\u001b[38;5;132;01m}\u001b[39;00m\u001b[38;5;124m'\u001b[39m)\n",
      "\u001b[1;31mTypeError\u001b[0m: cannot unpack non-iterable float object"
     ]
    }
   ],
   "source": [
    "import tensorflow as tf\n",
    "from tensorflow.keras.models import Sequential\n",
    "from tensorflow.keras.layers import Dense\n",
    "from sklearn.model_selection import train_test_split, GridSearchCV\n",
    "from sklearn.preprocessing import StandardScaler\n",
    "from sklearn.pipeline import Pipeline\n",
    "from sklearn.metrics import make_scorer, mean_squared_error\n",
    "\n",
    "# Assuming 'circuit', 'driver', and 'constructor' are categorical columns\n",
    "df = pd.get_dummies(df, columns=['circuit', 'driver', 'constructor'])\n",
    "\n",
    "# Extract features (X) and target variable (y)\n",
    "X = df.drop(columns=['lapTime_ms'])\n",
    "y = df['lapTime_ms']\n",
    "\n",
    "# Split the data into training and test sets\n",
    "X_train, X_test, y_train, y_test = train_test_split(X, y, test_size=0.2, random_state=42)\n",
    "\n",
    "# Build the neural network model\n",
    "def create_model(units=64):\n",
    "    model = Sequential()\n",
    "    model.add(Dense(units=units, activation='relu', input_dim=X_train.shape[1]))\n",
    "    model.add(Dense(units=32, activation='relu'))\n",
    "    model.add(Dense(units=1, activation='linear'))\n",
    "    model.compile(optimizer='adam', loss='mean_squared_error', metrics=['mae'])\n",
    "    return model\n",
    "\n",
    "# Set up the pipeline including preprocessing and the neural network model\n",
    "pipeline = Pipeline([\n",
    "    ('scaler', StandardScaler()),\n",
    "    ('model', tf.keras.wrappers.scikit_learn.KerasRegressor(build_fn=create_model, epochs=50, batch_size=32, verbose=0))\n",
    "])\n",
    "\n",
    "# Set up hyperparameter tuning using GridSearchCV\n",
    "param_grid = {\n",
    "    'model__epochs': [50, 100],\n",
    "    'model__batch_size': [32, 64],\n",
    "    'model__units': [32, 64, 128]\n",
    "}\n",
    "\n",
    "# Define the scoring metric for GridSearchCV\n",
    "scoring_metric = make_scorer(mean_squared_error, greater_is_better=False)\n",
    "\n",
    "# Create GridSearchCV instance\n",
    "grid_search = GridSearchCV(pipeline, param_grid=param_grid, scoring=scoring_metric, cv=5)\n",
    "\n",
    "# Fit the model using GridSearchCV\n",
    "grid_search.fit(X_train, y_train)\n",
    "\n",
    "# Print the best hyperparameter combination\n",
    "best_params = grid_search.best_params_\n",
    "print(\"Best Hyperparameter Combination:\")\n",
    "print(best_params)\n",
    "\n",
    "# Evaluate the best model on the test set\n",
    "best_model = grid_search.best_estimator_\n",
    "# Evaluate the best model on the test set\n",
    "mse = grid_search.score(X_test, y_test)\n",
    "print(f'Mean Squared Error on Test Set: {mse}')\n",
    "\n",
    "# Make predictions on new data (e.g., validatedf)\n",
    "# X_valid_scaled = scaler.transform(X_valid)\n",
    "# predicted_laptimes_valid = best_model.predict(X_valid_scaled)\n"
   ]
  },
  {
   "cell_type": "code",
   "execution_count": 16,
   "id": "9a998fa8",
   "metadata": {},
   "outputs": [
    {
     "name": "stdout",
     "output_type": "stream",
     "text": [
      "Mean Squared Error on Test Set: -3943896930.3754907\n"
     ]
    }
   ],
   "source": [
    "# Evaluate the best model on the test set\n",
    "mse = grid_search.score(X_test, y_test)\n",
    "print(f'Mean Squared Error on Test Set: {mse}')"
   ]
  },
  {
   "cell_type": "code",
   "execution_count": 20,
   "id": "1f74b04e",
   "metadata": {},
   "outputs": [
    {
     "name": "stderr",
     "output_type": "stream",
     "text": [
      "C:\\Users\\ajed8\\anaconda3\\lib\\site-packages\\sklearn\\base.py:450: UserWarning: X does not have valid feature names, but StandardScaler was fitted with feature names\n",
      "  warnings.warn(\n"
     ]
    }
   ],
   "source": [
    "# Make predictions on new data (e.g., validatedf)\n",
    "validatedf = pd.read_csv(\"test.csv\")\n",
    "# Assuming 'circuit', 'driver', and 'constructor' are categorical columns in validatedf\n",
    "validatedf_encoded = pd.get_dummies(validatedf, columns=['circuit', 'driver', 'constructor'])\n",
    "\n",
    "# Ensure that the columns in validatedf match the columns used for training\n",
    "validatedf_encoded = validatedf_encoded.reindex(columns=X_train.columns, fill_value=0)\n",
    "\n",
    "# Standardize the features using the same scaler used for training\n",
    "X_valid_scaled = scaler.transform(validatedf_encoded)\n",
    "\n",
    "# Make predictions on new data (e.g., validatedf)\n",
    "predicted_laptimes_valid = best_model.predict(X_valid_scaled)\n"
   ]
  },
  {
   "cell_type": "code",
   "execution_count": 21,
   "id": "8c34374e",
   "metadata": {},
   "outputs": [
    {
     "data": {
      "text/plain": [
       "array([ 793182.94, 1027606.75,  970317.6 , ..., 1018328.94, 1117817.  ,\n",
       "        939392.5 ], dtype=float32)"
      ]
     },
     "execution_count": 21,
     "metadata": {},
     "output_type": "execute_result"
    }
   ],
   "source": [
    "predicted_laptimes_valid"
   ]
  },
  {
   "cell_type": "code",
   "execution_count": null,
   "id": "5fc7b2b2",
   "metadata": {},
   "outputs": [],
   "source": []
  }
 ],
 "metadata": {
  "kernelspec": {
   "display_name": "Python 3 (ipykernel)",
   "language": "python",
   "name": "python3"
  },
  "language_info": {
   "codemirror_mode": {
    "name": "ipython",
    "version": 3
   },
   "file_extension": ".py",
   "mimetype": "text/x-python",
   "name": "python",
   "nbconvert_exporter": "python",
   "pygments_lexer": "ipython3",
   "version": "3.9.12"
  }
 },
 "nbformat": 4,
 "nbformat_minor": 5
}
