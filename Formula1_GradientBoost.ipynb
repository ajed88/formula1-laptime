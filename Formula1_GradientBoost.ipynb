{
 "cells": [
  {
   "cell_type": "code",
   "execution_count": 2,
   "id": "4f9ff3da",
   "metadata": {},
   "outputs": [],
   "source": [
    "import numpy as np\n",
    "import pandas as pd\n",
    "from ydata_profiling import ProfileReport\n",
    "from matplotlib import pyplot as plt\n",
    "import seaborn as sns\n",
    "%matplotlib inline\n",
    "plt.rcParams['figure.figsize'] = (10, 6)"
   ]
  },
  {
   "cell_type": "code",
   "execution_count": 3,
   "id": "ad91cade",
   "metadata": {},
   "outputs": [],
   "source": [
    "validatedf = pd.read_csv(\"test.csv\")\n",
    "df = pd.read_csv(\"train.csv\")\n",
    "\n",
    "df= df.drop(['latitude','longitude', 'id', 'carNumber', 'date', 'time', 'race'], axis=1)\n",
    "validatedf = validatedf.drop(['latitude','longitude', 'id', 'carNumber', 'date', 'time', 'race'], axis=1)"
   ]
  },
  {
   "cell_type": "code",
   "execution_count": 4,
   "id": "bf52776b",
   "metadata": {},
   "outputs": [
    {
     "name": "stdout",
     "output_type": "stream",
     "text": [
      "Best Hyperparameter Combination for Gradient Boosting:\n",
      "{'learning_rate': 0.2, 'max_depth': 7, 'n_estimators': 50}\n",
      "Mean Squared Error on Test Set (Gradient Boosting): -993663161.5922345\n"
     ]
    }
   ],
   "source": [
    "from sklearn.ensemble import GradientBoostingRegressor\n",
    "from sklearn.model_selection import train_test_split, GridSearchCV\n",
    "from sklearn.preprocessing import StandardScaler\n",
    "from sklearn.pipeline import Pipeline\n",
    "from sklearn.metrics import mean_squared_error, make_scorer\n",
    "\n",
    "# Assuming 'circuit', 'driver', and 'constructor' are categorical columns\n",
    "df = pd.get_dummies(df, columns=['circuit', 'driver', 'constructor'])\n",
    "\n",
    "# Extract features (X) and target variable (y)\n",
    "X = df.drop(columns=['lapTime_ms'])\n",
    "y = df['lapTime_ms']\n",
    "\n",
    "# Split the data into training and test sets\n",
    "X_train, X_test, y_train, y_test = train_test_split(X, y, test_size=0.2, random_state=42)\n",
    "\n",
    "# Standardize the features using Z-score normalization\n",
    "scaler = StandardScaler()\n",
    "X_train_scaled = scaler.fit_transform(X_train)\n",
    "X_test_scaled = scaler.transform(X_test)\n",
    "\n",
    "# Build the Gradient Boosting model\n",
    "gb_model = GradientBoostingRegressor()\n",
    "\n",
    "# Set up hyperparameter tuning using GridSearchCV\n",
    "param_grid = {\n",
    "    'n_estimators': [50, 100, 200],\n",
    "    'learning_rate': [0.01, 0.1, 0.2],\n",
    "    'max_depth': [3, 5, 7]\n",
    "}\n",
    "\n",
    "# Define the scoring metric for GridSearchCV\n",
    "scoring_metric = make_scorer(mean_squared_error, greater_is_better=False)\n",
    "\n",
    "# Create GridSearchCV instance\n",
    "grid_search_gb = GridSearchCV(gb_model, param_grid=param_grid, scoring=scoring_metric, cv=5)\n",
    "\n",
    "# Fit the model using GridSearchCV\n",
    "grid_search_gb.fit(X_train_scaled, y_train)\n",
    "\n",
    "# Print the best hyperparameter combination\n",
    "best_params_gb = grid_search_gb.best_params_\n",
    "print(\"Best Hyperparameter Combination for Gradient Boosting:\")\n",
    "print(best_params_gb)\n",
    "\n",
    "# Evaluate the best model on the test set\n",
    "mse_gb = grid_search_gb.score(X_test_scaled, y_test)\n",
    "print(f'Mean Squared Error on Test Set (Gradient Boosting): {mse_gb}')\n",
    "\n",
    "# Make predictions on new data (e.g., validatedf)\n",
    "validatedf_encoded = pd.get_dummies(validatedf, columns=['circuit', 'driver', 'constructor'])\n",
    "validatedf_encoded = validatedf_encoded.reindex(columns=X_train.columns, fill_value=0)\n",
    "X_valid_scaled_gb = scaler.transform(validatedf_encoded)\n",
    "predicted_laptimes_valid_gb = grid_search_gb.predict(X_valid_scaled_gb)\n"
   ]
  },
  {
   "cell_type": "code",
   "execution_count": 5,
   "id": "4a52c0a0",
   "metadata": {},
   "outputs": [
    {
     "data": {
      "text/plain": [
       "array([102672.77988322,  70016.3608095 ,  97469.18626262, ...,\n",
       "       110846.7657032 , 136503.59152915,  86905.39511925])"
      ]
     },
     "execution_count": 5,
     "metadata": {},
     "output_type": "execute_result"
    }
   ],
   "source": [
    "predicted_laptimes_valid_gb"
   ]
  },
  {
   "cell_type": "code",
   "execution_count": null,
   "id": "acdb94ab",
   "metadata": {},
   "outputs": [],
   "source": []
  }
 ],
 "metadata": {
  "kernelspec": {
   "display_name": "Python 3 (ipykernel)",
   "language": "python",
   "name": "python3"
  },
  "language_info": {
   "codemirror_mode": {
    "name": "ipython",
    "version": 3
   },
   "file_extension": ".py",
   "mimetype": "text/x-python",
   "name": "python",
   "nbconvert_exporter": "python",
   "pygments_lexer": "ipython3",
   "version": "3.9.12"
  }
 },
 "nbformat": 4,
 "nbformat_minor": 5
}
